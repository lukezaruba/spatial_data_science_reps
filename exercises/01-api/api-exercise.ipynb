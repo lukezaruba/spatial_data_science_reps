{
 "cells": [
  {
   "cell_type": "markdown",
   "metadata": {},
   "source": [
    "# Working with APIs\n",
    "### GIS 5571: Fall 2023\n",
    "\n",
    "In this notebook, you will be able to get some reps in for reading an API's documentation and learning how to work with it. In addition you will be able to make requests using both Python & cURL.\n",
    "\n",
    "You will need to following packages.\n",
    "\n",
    "Python:\n",
    "- `requests`\n",
    "- `folium` (optional)\n",
    "\n",
    "Command Line\n",
    "- `cURL`"
   ]
  },
  {
   "cell_type": "markdown",
   "metadata": {},
   "source": [
    "## Basic API\n",
    "\n",
    "In this first excerise, use the Ziptastic API to make some API requests. You can access the API here: https://ziptasticapi.com/.\n",
    "\n",
    "Write a Python function that takes in a ZIP code and prints out the Country, State, and City for that ZIP code.\n",
    "\n",
    "For example, a function called `ziptastic` could be used like this\n",
    "\n",
    "```ziptastic(55455)```\n",
    "\n",
    "would yield something along the lines of\n",
    "\n",
    "```Minneapolis, Minnesota, United States```"
   ]
  },
  {
   "cell_type": "code",
   "execution_count": 1,
   "metadata": {},
   "outputs": [],
   "source": [
    "# Put your code here\n"
   ]
  },
  {
   "cell_type": "markdown",
   "metadata": {},
   "source": [
    "## Using API Parameters\n",
    "\n",
    "In the second exercise, you will need to use documentation that is a little more complex.\n",
    "\n",
    "You will use the REST Countries API, which can be accessed here: https://restcountries.com/.\n",
    "\n",
    "The goal of this is to return the country name, the centroid (latitude and longitude), and the flag icon (an emoji) of each country in the world."
   ]
  },
  {
   "cell_type": "code",
   "execution_count": 3,
   "metadata": {},
   "outputs": [],
   "source": [
    "# Put your code here\n"
   ]
  },
  {
   "cell_type": "markdown",
   "metadata": {},
   "source": [
    "## Mapping World Countries\n",
    "\n",
    "Using the JSON that your retrieved from the REST Countries API above, feel free to use the code below to make a quick map using Folium.\n",
    "\n",
    "This is completely optional and requires you to install `folium` in your environment."
   ]
  },
  {
   "cell_type": "code",
   "execution_count": 4,
   "metadata": {},
   "outputs": [],
   "source": [
    "# Mapping code - Save this to create a basic map\n",
    "import folium\n",
    "\n",
    "def createMap(json_results, name_field=\"name\", latlng_field=\"latlng\", flag_field=\"flag\"):\n",
    "    flm_map = folium.Map(location=[0, 0], tiles=\"Cartodb Positron\", zoom_start=2)\n",
    "    \n",
    "    # Loop through the JSON for each country\n",
    "    for country in json_results:\n",
    "        # Get attributes of a country\n",
    "        coords = [country[latlng_field][0], country[\"latlng\"][1]]\n",
    "        flag = country[flag_field]\n",
    "        name = country[name_field][\"common\"]\n",
    "        \n",
    "        # Create the custom flag icon\n",
    "        html = f'<div style=\"font-size: 24px;\">{flag}</div>'\n",
    "        \n",
    "        # Add to map\n",
    "        flm_map.add_child(\n",
    "            folium.Marker(\n",
    "                location = coords,\n",
    "                popup = name,\n",
    "                icon = folium.DivIcon(html=html)\n",
    "            )\n",
    "        )\n",
    "        \n",
    "    return flm_map"
   ]
  },
  {
   "cell_type": "code",
   "execution_count": 5,
   "metadata": {},
   "outputs": [],
   "source": [
    "# Visualize the Results by calling the function\n"
   ]
  },
  {
   "cell_type": "markdown",
   "metadata": {},
   "source": [
    "## Using cURL\n",
    "\n",
    "Now try using cURL to make the same requests. To execute terminal/command-line commands from within a notebook, you can place an exclamation point (`!`) before youre code, just like if you are using `pip install` to install a package from within a notebook.\n",
    "\n",
    "wget is also another alternative to cURL that could be used."
   ]
  },
  {
   "cell_type": "code",
   "execution_count": 6,
   "metadata": {},
   "outputs": [],
   "source": [
    "# Ziptastic API\n"
   ]
  },
  {
   "cell_type": "code",
   "execution_count": 7,
   "metadata": {},
   "outputs": [],
   "source": [
    "# REST Countries API\n"
   ]
  }
 ],
 "metadata": {
  "kernelspec": {
   "display_name": "geo",
   "language": "python",
   "name": "python3"
  },
  "language_info": {
   "codemirror_mode": {
    "name": "ipython",
    "version": 3
   },
   "file_extension": ".py",
   "mimetype": "text/x-python",
   "name": "python",
   "nbconvert_exporter": "python",
   "pygments_lexer": "ipython3",
   "version": "3.10.10"
  },
  "orig_nbformat": 4
 },
 "nbformat": 4,
 "nbformat_minor": 2
}

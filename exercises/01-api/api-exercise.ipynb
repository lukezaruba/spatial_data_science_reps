{
 "cells": [
  {
   "cell_type": "markdown",
   "metadata": {},
   "source": [
    "# Working with APIs\n",
    "### GIS 5571: Fall 2023\n",
    "\n",
    "In this notebook, you will be able to get some reps in for reading an API's documentation and learning how to work with it. In addition you will be able to make requests using both Python & cURL.\n",
    "\n",
    "You will need to following packages.\n",
    "\n",
    "Python:\n",
    "- `requests`\n",
    "- `folium` (optional)\n",
    "\n",
    "Command Line\n",
    "- `cURL` or `wget` (`cURL` should be installed on most Mac/Windows computers by default)"
   ]
  },
  {
   "cell_type": "markdown",
   "metadata": {},
   "source": [
    "## Basic API\n",
    "\n",
    "In this first excerise, use the Ziptastic API to make some API requests. You can access the API here: https://ziptasticapi.com/.\n",
    "\n",
    "Read the docs to understand how it works.\n",
    "\n",
    "Write a Python function that takes in a ZIP code and prints out the Country, State, and City for that ZIP code.\n",
    "\n",
    "<br>\n",
    "\n",
    "### <u>Functions in Python</u>\n",
    "\n",
    "```\n",
    "# Below is a basic function that takes in a name and prints out a greeting to the name\n",
    "def hello(name):\n",
    "    print(f\"Hello {name}!\")\n",
    "\n",
    "# Below is a basic function that takes in a list and prints out each item in the list\n",
    "def print_list_items(my_list):\n",
    "    # Try passing a string into the function instead and see what happens\n",
    "    for item in my_list:\n",
    "        print(item)\n",
    "```\n",
    "\n",
    "<br>\n",
    "\n",
    "### <u>Starter Code (to help)</u>\n",
    "```\n",
    "import requests\n",
    "\n",
    "def ziptastic(zip_code):\n",
    "    # Create a request URL\n",
    "    url = ...\n",
    "\n",
    "    # A couple steps are needed here\n",
    "    ...\n",
    "\n",
    "    # Figure out how to get the necessary fields\n",
    "    country = ...\n",
    "    state = ...\n",
    "    city = ...\n",
    "\n",
    "    # Print out the results\n",
    "    print(f\"The country is {country}\")\n",
    "    print(f\"The state is {state}\")\n",
    "    print(f\"The city is {city}\")\n",
    "```"
   ]
  },
  {
   "cell_type": "code",
   "execution_count": 1,
   "metadata": {},
   "outputs": [],
   "source": [
    "def ziptastic(zip_code):\n",
    "    # Put your code here - DELETE \"pass\"\n",
    "    pass"
   ]
  },
  {
   "cell_type": "code",
   "execution_count": 2,
   "metadata": {},
   "outputs": [],
   "source": [
    "# Call the function here and see if it works\n",
    "ziptastic(55102)"
   ]
  },
  {
   "cell_type": "markdown",
   "metadata": {},
   "source": [
    "## Using API Parameters\n",
    "\n",
    "In the second exercise, you will need to use documentation that is a little more complex.\n",
    "\n",
    "You will use the REST Countries API, which can be accessed here: https://restcountries.com/.\n",
    "\n",
    "The goal of this is to return the country name, the centroid (latitude and longitude), and the flag icon (an emoji) of each country in the world. You can try printing out just a couple of the results to see what it looks like, or can try using the code snippet in the following cells to actually map out the results using folium. Folium is a Python package used for mapping that you need to install to use (don't worry if you can't get this to work, this is more just for fun). \n",
    "\n",
    "Try to pass the API parameters into the request as arguments. There are multiple ways to successfully do this though, including without making use of the parameters argument.\n",
    "\n",
    "You can try installing folium in a notebook by using:\n",
    "<br>\n",
    "<br>\n",
    "`!pip install folium`\n",
    "\n",
    "*NOTE:* This may not work if you are using the ArcGIS Pro base Conda environment."
   ]
  },
  {
   "cell_type": "code",
   "execution_count": 3,
   "metadata": {},
   "outputs": [],
   "source": [
    "# Put your code here\n",
    "\n",
    "# Save the JSON output as the variable below\n",
    "json = ..."
   ]
  },
  {
   "cell_type": "code",
   "execution_count": 4,
   "metadata": {},
   "outputs": [],
   "source": [
    "# Mapping code - Save this to create a basic map\n",
    "import folium\n",
    "\n",
    "def createMap(json_results, name_field=\"name\", latlng_field=\"latlng\", flag_field=\"flag\"):\n",
    "    flm_map = folium.Map(location=[0, 0], tiles=\"Cartodb Positron\", zoom_start=2)\n",
    "    \n",
    "    # Loop through the JSON for each country\n",
    "    for country in json_results:\n",
    "        # Get attributes of a country\n",
    "        coords = [country[latlng_field][0], country[\"latlng\"][1]]\n",
    "        flag = country[flag_field]\n",
    "        name = country[name_field][\"common\"]\n",
    "        \n",
    "        # Create the custom flag icon\n",
    "        html = f'<div style=\"font-size: 24px;\">{flag}</div>'\n",
    "        \n",
    "        # Add to map\n",
    "        flm_map.add_child(\n",
    "            folium.Marker(\n",
    "                location = coords,\n",
    "                popup = name,\n",
    "                icon = folium.DivIcon(html=html)\n",
    "            )\n",
    "        )\n",
    "        \n",
    "    return flm_map"
   ]
  },
  {
   "cell_type": "code",
   "execution_count": 5,
   "metadata": {},
   "outputs": [],
   "source": [
    "# Visualize the Results using the code above\n",
    "createMap(json)"
   ]
  },
  {
   "cell_type": "markdown",
   "metadata": {},
   "source": [
    "## Using cURL\n",
    "\n",
    "Now try using cURL to make the same requests. To execute terminal/command-line commands from within a notebook, you can place an exclamation point (`!`) before youre code, just like if you are using `pip install` to install a package from within a notebook.\n",
    "\n",
    "wget is also another alternative to cURL that could be used."
   ]
  },
  {
   "cell_type": "code",
   "execution_count": 6,
   "metadata": {},
   "outputs": [],
   "source": [
    "# Ziptastic API\n"
   ]
  },
  {
   "cell_type": "code",
   "execution_count": 7,
   "metadata": {},
   "outputs": [],
   "source": [
    "# REST Countries API - this will output a long JSON, that's ok\n",
    "# Think about how params are physically used to construct a URL\n",
    "# Hint, the ? symbol might cause an error, use quotation marks around the URL\n"
   ]
  }
 ],
 "metadata": {
  "kernelspec": {
   "display_name": "geo",
   "language": "python",
   "name": "python3"
  },
  "language_info": {
   "codemirror_mode": {
    "name": "ipython",
    "version": 3
   },
   "file_extension": ".py",
   "mimetype": "text/x-python",
   "name": "python",
   "nbconvert_exporter": "python",
   "pygments_lexer": "ipython3",
   "version": "3.10.10"
  },
  "orig_nbformat": 4
 },
 "nbformat": 4,
 "nbformat_minor": 2
}

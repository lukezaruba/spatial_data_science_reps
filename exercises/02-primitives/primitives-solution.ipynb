{
 "cells": [
  {
   "cell_type": "markdown",
   "metadata": {},
   "source": [
    "# Geospatial Primitives/Data Structures\n",
    "### GIS 5571: Fall 2023\n",
    "\n",
    "In this notebook, you will be able to get some reps in for working with geospatial primitives like points, lines, and polygons by using both `ArcPy` and creating some <u>*abstractions*</u> of these primitives and <u>*interfaces*</u> to work with them.\n",
    "\n",
    "You will need to following packages.\n",
    "\n",
    "Python:\n",
    "- `arcpy`\n",
    "- `shapely` (optional, has similar geometry capabilities as `arcpy` and can be installed on computers without ArcGIS Pro)"
   ]
  },
  {
   "cell_type": "markdown",
   "metadata": {},
   "source": [
    "## Using ArcPy Primitives\n",
    "\n",
    "In this first excerise, use ArcPy to create a Polygon out of Points. After creating the Polygon, print out at least three <u>attributes</u> (called properties in the ArcPy docs) of the object, and use at least two different <u>methods</u>.\n",
    "\n",
    "You may need to look into the ArcPy documentation to complete this.\n",
    "\n",
    "*NOTE:* Alternatively, you could use Shapely here, for the sake of this excercise, since it behaves similarly to ArcPy for working with primitives."
   ]
  },
  {
   "cell_type": "code",
   "execution_count": null,
   "metadata": {},
   "outputs": [],
   "source": [
    "# Put your code here\n",
    "import arcpy\n",
    "\n",
    "# Constructing Geometries\n",
    "point1 = arcpy.Point(1, 1)\n",
    "point2 = arcpy.Point(1, 2)\n",
    "point3 = arcpy.Point(2, 2)\n",
    "\n",
    "polygon = arcpy.Polygon([point1, point2, point3])\n",
    "\n",
    "# Properties\n",
    "print(\"JSON:\", polygon.json)\n",
    "print(\"Area:\", polygon.area)\n",
    "print(\"Hull Rectangle:\", polygon.hullRectangle)\n",
    "\n",
    "# Methods - Buffer & Boundary are some of the easiest\n",
    "buffered_polygon = polygon.buffer(1)\n",
    "print(buffered_polygon.wkt)\n",
    "\n",
    "boundary = polygon.boundary()\n",
    "print(boundary.wkt)"
   ]
  },
  {
   "cell_type": "code",
   "execution_count": 1,
   "metadata": {},
   "outputs": [
    {
     "name": "stdout",
     "output_type": "stream",
     "text": [
      "WKT: POLYGON ((1 1, 1 2, 2 2, 1 1))\n",
      "Area: 0.5\n",
      "Bounds: (1.0, 1.0, 2.0, 2.0)\n",
      "POLYGON ((1.7071067811865475 0.2928932188134525, 1.6343932841636457 0.2269895466372631, 1.5555702330196017 0.1685303876974545, 1.4713967368259975 0.118078735651645, 1.38268343236509 0.0761204674887134, 1.290284677254462 0.0430596642677911, 1.1950903220161284 0.0192147195967696, 1.09801714032956 0.0048152733278031, 0.9999999999999998 0, 0.9019828596704396 0.0048152733278031, 0.8049096779838714 0.0192147195967697, 0.7097153227455375 0.0430596642677912, 0.6173165676349097 0.0761204674887135, 0.5286032631740021 0.1180787356516451, 0.4444297669803978 0.1685303876974548, 0.3656067158363548 0.2269895466372628, 0.2928932188134523 0.2928932188134525, 0.2269895466372629 0.3656067158363547, 0.1685303876974545 0.444429766980398, 0.118078735651645 0.5286032631740023, 0.0761204674887132 0.6173165676349104, 0.0430596642677911 0.709715322745538, 0.0192147195967696 0.8049096779838716, 0.0048152733278031 0.9019828596704395, 0 1, 0 2, 0.0048152733278032 2.098017140329561, 0.0192147195967696 2.1950903220161284, 0.0430596642677912 2.2902846772544625, 0.0761204674887133 2.38268343236509, 0.1180787356516451 2.471396736825998, 0.1685303876974546 2.555570233019602, 0.226989546637263 2.6343932841636457, 0.2928932188134525 2.7071067811865475, 0.3656067158363546 2.773010453362737, 0.444429766980398 2.8314696123025453, 0.5286032631740023 2.881921264348355, 0.6173165676349103 2.923879532511287, 0.7097153227455378 2.956940335732209, 0.8049096779838718 2.9807852804032304, 0.9019828596704393 2.995184726672197, 1 3, 2 3, 2.098017140329561 2.9951847266721967, 2.1950903220161284 2.9807852804032304, 2.2902846772544625 2.9569403357322086, 2.3826834323650896 2.923879532511287, 2.471396736825998 2.881921264348355, 2.555570233019602 2.8314696123025453, 2.6343932841636457 2.773010453362737, 2.7071067811865475 2.7071067811865475, 2.773010453362737 2.6343932841636457, 2.8314696123025453 2.555570233019602, 2.881921264348355 2.471396736825998, 2.923879532511287 2.3826834323650896, 2.956940335732209 2.290284677254462, 2.9807852804032304 2.1950903220161284, 2.995184726672197 2.098017140329561, 3 2, 2.995184726672197 1.9019828596704393, 2.9807852804032304 1.8049096779838718, 2.956940335732209 1.7097153227455377, 2.923879532511287 1.6173165676349102, 2.881921264348355 1.5286032631740023, 2.8314696123025453 1.4444297669803978, 2.773010453362737 1.3656067158363547, 2.7071067811865475 1.2928932188134525, 1.7071067811865475 0.2928932188134525))\n",
      "False\n"
     ]
    }
   ],
   "source": [
    "# Shapely Example\n",
    "import shapely\n",
    "\n",
    "# Constructing Geometries\n",
    "shply_point1 = shapely.Point(1, 1)\n",
    "shply_point2 = shapely.Point(1, 2)\n",
    "shply_point3 = shapely.Point(2, 2)\n",
    "\n",
    "shply_polygon = shapely.Polygon([shply_point1, shply_point2, shply_point3])\n",
    "\n",
    "# Properties\n",
    "print(\"WKT:\", shply_polygon.wkt)\n",
    "print(\"Area:\", shply_polygon.area)\n",
    "print(\"Bounds:\", shply_polygon.bounds)\n",
    "\n",
    "# Methods\n",
    "shply_buffered_polygon = shply_polygon.buffer(1)\n",
    "print(shply_buffered_polygon.wkt)\n",
    "\n",
    "shply_contains = shply_polygon.contains(shapely.Point(5, 5))\n",
    "print(shply_contains)"
   ]
  },
  {
   "cell_type": "markdown",
   "metadata": {},
   "source": [
    "## Constructing your own Primitives\n",
    "\n",
    "In the next excerise, you will create your own Point class (an abstraction) in Python which will have some basic methods (interfaces) and attributes to get and modify information about a Point object.\n",
    "\n",
    "Create a Point class that takes in X and Y coordinates to construct the object, as well as an ID. Create a method called \"info\" which prints out the X, Y, and ID attributes, as well as a method called \"change_id\" which changes the ID of the Point. If you want a bit more of a challenge, create a method that returns the Well-Known Text (WKT) of the Point and use it to create a new WKT attibute in the constructor of the class.\n",
    "\n",
    "<br>\n",
    "\n",
    "### <u>Classes in Python</u>\n",
    "\n",
    "```\n",
    "# To create a class, use the following syntax\n",
    "class MyClass:\n",
    "    # Every class needs a method (declared the same way as a function) called __init__\n",
    "    # This is called the constructor, because it is used when a new instance of the class is created\n",
    "    def __init__(self, attr1, attr2):\n",
    "        # For methods, we (almost) always include \"self\" as the first argument\n",
    "        # This shows that the method belongs to the class\n",
    "        # We also use it to assign instance attributes to an instance, like below\n",
    "        self.attr1 = attr1\n",
    "        self.attr2 = attr2\n",
    "    \n",
    "    def change_attr1(self, new_attr1):\n",
    "        # A really easy way to change an instance attribute is to simply write over it, like this\n",
    "        self.attr1 = new_attr1\n",
    "\n",
    "        # This often isn't used in complex software, because it isn't very secure, but that's ok for us\n",
    "\n",
    "    def show_attr1(self):\n",
    "        # Here is an easy way to access and print out an instance attribute\n",
    "        print(self.attr1)\n",
    "```\n",
    "\n",
    "<br>\n",
    "\n",
    "#### You can use the example class by using the following code.\n",
    "\n",
    "```    \n",
    "# Create an Instance of the Class\n",
    "example_object = MyClass(\"Attribute1\", \"Attribute2\")\n",
    "\n",
    "# Use the show_attr1 method\n",
    "example_object.show_attr1()\n",
    ">>> \"Attribute1\"\n",
    "\n",
    "# Use the change_attr1 method\n",
    "example_object.change_attr1(\"NewAttribute1\")\n",
    "\n",
    "# Use the show_attr1 method\n",
    "example_object.show_attr1()\n",
    ">>> \"NewAttribute1\"\n",
    "```"
   ]
  },
  {
   "cell_type": "code",
   "execution_count": 2,
   "metadata": {},
   "outputs": [],
   "source": [
    "# Put your code here\n",
    "class Point:\n",
    "    def __init__(self, x, y, id):\n",
    "        self.x = x\n",
    "        self.y = y\n",
    "        self.id = id\n",
    "        self.wkt = self._wkt()\n",
    "    \n",
    "    def info(self):\n",
    "        print(f\"x: {self.x}\\ny: {self.y}\\nid: {self.id}\\nwkt: {self.wkt}\")\n",
    "        \n",
    "    def change_id(self, new_id):\n",
    "        self.id = new_id\n",
    "        \n",
    "    def _wkt(self):\n",
    "        return f\"POINT ({self.x} {self.y})\""
   ]
  },
  {
   "cell_type": "code",
   "execution_count": 3,
   "metadata": {},
   "outputs": [
    {
     "name": "stdout",
     "output_type": "stream",
     "text": [
      "x: 0\n",
      "y: 0\n",
      "id: 999\n",
      "wkt: POINT (0 0)\n"
     ]
    }
   ],
   "source": [
    "# Create point\n",
    "my_point = Point(0, 0, 999)\n",
    "\n",
    "# Display Info\n",
    "my_point.info()"
   ]
  },
  {
   "cell_type": "code",
   "execution_count": 4,
   "metadata": {},
   "outputs": [
    {
     "name": "stdout",
     "output_type": "stream",
     "text": [
      "x: 0\n",
      "y: 0\n",
      "id: 111\n",
      "wkt: POINT (0 0)\n"
     ]
    }
   ],
   "source": [
    "# Change ID of point\n",
    "my_point.change_id(111)\n",
    "\n",
    "# Display Info\n",
    "my_point.info()"
   ]
  },
  {
   "cell_type": "markdown",
   "metadata": {},
   "source": [
    "## Challenge: Lines & Polygons from scratch\n",
    "\n",
    "As a challenge, try creating Line and Polygon classes that are created from a list of points, with a method to return the geometries as WKT. You can try loading in the WKT result into Shapely to see if it is correct. Try implementing some checks to make sure that everything is done correctly to avoid bugs."
   ]
  },
  {
   "cell_type": "code",
   "execution_count": 5,
   "metadata": {},
   "outputs": [
    {
     "name": "stdout",
     "output_type": "stream",
     "text": [
      "LINESTRING (0 0, 1 2, 3 4)\n"
     ]
    }
   ],
   "source": [
    "# Put your code here\n",
    "class Line:\n",
    "    def __init__(self, points: list[Point]):\n",
    "        self.points = points\n",
    "        self.wkt = self._create_wkt()\n",
    "        \n",
    "    def _create_wkt(self):\n",
    "        wkt_string = \"\"\n",
    "        \n",
    "        for i in range(len(self.points)):\n",
    "            wkt_string += str(self.points[i].x) + \" \" + str(self.points[i].y)\n",
    "            \n",
    "            if i == len(self.points)-1:\n",
    "                return f\"LINESTRING ({wkt_string})\"\n",
    "            \n",
    "            else:\n",
    "                wkt_string += \", \"\n",
    "                \n",
    "\n",
    "\n",
    "p1 = Point(0, 0, 1)\n",
    "p2 = Point(1, 2, 2)\n",
    "p3 = Point(3, 4, 3)\n",
    "\n",
    "l1 = Line([p1, p2, p3])\n",
    "\n",
    "print(l1.wkt)    "
   ]
  },
  {
   "cell_type": "code",
   "execution_count": 6,
   "metadata": {},
   "outputs": [
    {
     "name": "stdout",
     "output_type": "stream",
     "text": [
      "POLYGON ((0 0, 1 2, 3 4, 0 0))\n"
     ]
    }
   ],
   "source": [
    "# Put your code here\n",
    "class Polygon:\n",
    "    def __init__(self, points: list[Point]):\n",
    "        self.points = points\n",
    "        self._check_polygon_validity()\n",
    "        self.wkt = self._create_wkt()\n",
    "        \n",
    "    def _create_wkt(self):\n",
    "        wkt_string = \"\"\n",
    "        \n",
    "        for i in range(len(self.points)):\n",
    "            wkt_string += str(self.points[i].x) + \" \" + str(self.points[i].y)\n",
    "            \n",
    "            if i == len(self.points)-1:\n",
    "                return f\"POLYGON (({wkt_string}))\"\n",
    "            \n",
    "            else:\n",
    "                wkt_string += \", \"\n",
    "                \n",
    "    def _check_polygon_validity(self):\n",
    "        x1 = self.points[0].x\n",
    "        y1 = self.points[0].y\n",
    "        \n",
    "        xn = self.points[-1].x\n",
    "        yn = self.points[-1].y\n",
    "        \n",
    "        if x1 != xn or y1 != yn:\n",
    "            # Automatically close polygon with first point\n",
    "            self.points.append(self.points[0])\n",
    "            \n",
    "            self._check_polygon_validity()\n",
    "        \n",
    "        # At least need a triangle (3 points, with duplicate of first point)\n",
    "        if len(self.points) < 4:\n",
    "            raise Exception(\"Polygon can not be closed\")\n",
    "                \n",
    "\n",
    "\n",
    "p1 = Point(0, 0, 1)\n",
    "p2 = Point(1, 2, 2)\n",
    "p3 = Point(3, 4, 3)\n",
    "\n",
    "ply1 = Polygon([p1, p2, p3])\n",
    "\n",
    "print(ply1.wkt)"
   ]
  },
  {
   "cell_type": "code",
   "execution_count": 7,
   "metadata": {},
   "outputs": [
    {
     "data": {
      "image/svg+xml": [
       "<svg xmlns=\"http://www.w3.org/2000/svg\" xmlns:xlink=\"http://www.w3.org/1999/xlink\" width=\"100.0\" height=\"100.0\" viewBox=\"-0.16 -0.16 3.3200000000000003 4.32\" preserveAspectRatio=\"xMinYMin meet\"><g transform=\"matrix(1,0,0,-1,0,4.0)\"><path fill-rule=\"evenodd\" fill=\"#66cc99\" stroke=\"#555555\" stroke-width=\"0.0864\" opacity=\"0.6\" d=\"M 0.0,0.0 L 1.0,2.0 L 3.0,4.0 L 0.0,0.0 z\" /></g></svg>"
      ],
      "text/plain": [
       "<POLYGON ((0 0, 1 2, 3 4, 0 0))>"
      ]
     },
     "execution_count": 7,
     "metadata": {},
     "output_type": "execute_result"
    }
   ],
   "source": [
    "# Check with Shapely\n",
    "import shapely.wkt\n",
    "\n",
    "shapely.wkt.loads(ply1.wkt)"
   ]
  },
  {
   "cell_type": "code",
   "execution_count": 8,
   "metadata": {},
   "outputs": [
    {
     "data": {
      "image/svg+xml": [
       "<svg xmlns=\"http://www.w3.org/2000/svg\" xmlns:xlink=\"http://www.w3.org/1999/xlink\" width=\"100.0\" height=\"100.0\" viewBox=\"-0.16 -0.16 3.3200000000000003 4.32\" preserveAspectRatio=\"xMinYMin meet\"><g transform=\"matrix(1,0,0,-1,0,4.0)\"><polyline fill=\"none\" stroke=\"#66cc99\" stroke-width=\"0.0864\" points=\"0.0,0.0 1.0,2.0 3.0,4.0\" opacity=\"0.8\" /></g></svg>"
      ],
      "text/plain": [
       "<LINESTRING (0 0, 1 2, 3 4)>"
      ]
     },
     "execution_count": 8,
     "metadata": {},
     "output_type": "execute_result"
    }
   ],
   "source": [
    "shapely.wkt.loads(l1.wkt)"
   ]
  }
 ],
 "metadata": {
  "kernelspec": {
   "display_name": "geo",
   "language": "python",
   "name": "python3"
  },
  "language_info": {
   "codemirror_mode": {
    "name": "ipython",
    "version": 3
   },
   "file_extension": ".py",
   "mimetype": "text/x-python",
   "name": "python",
   "nbconvert_exporter": "python",
   "pygments_lexer": "ipython3",
   "version": "3.10.10"
  },
  "orig_nbformat": 4
 },
 "nbformat": 4,
 "nbformat_minor": 2
}

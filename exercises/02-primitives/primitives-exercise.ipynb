{
 "cells": [
  {
   "cell_type": "markdown",
   "metadata": {},
   "source": [
    "# Geospatial Primitives/Data Structures\n",
    "### GIS 5571: Fall 2023\n",
    "\n",
    "In this notebook, you will be able to get some reps in for working with geospatial primitives like points, lines, and polygons by using both `ArcPy` and creating some <u>*abstractions*</u> of these primitives and <u>*interfaces*</u> to work with them.\n",
    "\n",
    "You will need to following packages.\n",
    "\n",
    "Python:\n",
    "- `arcpy`\n",
    "- `shapely` (optional, has similar geometry capabilities as `arcpy` and can be installed on computers without ArcGIS Pro)"
   ]
  },
  {
   "cell_type": "markdown",
   "metadata": {},
   "source": [
    "## Using ArcPy Primitives\n",
    "\n",
    "In this first excerise, use ArcPy to create a Polygon out of Points. After creating the Polygon, print out at least three <u>attributes</u> (called properties in the ArcPy docs) of the object, and use at least two different <u>methods</u>.\n",
    "\n",
    "You may need to look into the ArcPy documentation to complete this.\n",
    "\n",
    "*NOTE:* Alternatively, you could use Shapely here, for the sake of this excercise, since it behaves similarly to ArcPy for working with primitives."
   ]
  },
  {
   "cell_type": "code",
   "execution_count": 1,
   "metadata": {},
   "outputs": [],
   "source": [
    "# Put your code here\n"
   ]
  },
  {
   "cell_type": "markdown",
   "metadata": {},
   "source": [
    "## Constructing your own Primitives\n",
    "\n",
    "In the next excerise, you will create your own Point class (an abstraction) in Python which will have some basic methods (interfaces) and attributes to get and modify information about a Point object.\n",
    "\n",
    "Create a Point class that takes in X and Y coordinates to construct the object, as well as an ID. Create a method called \"info\" which prints out the X, Y, and ID attributes, as well as a method called \"change_id\" which changes the ID of the Point. If you want a bit more of a challenge, create a method that returns the Well-Known Text (WKT) of the Point and use it to create a new WKT attibute in the constructor of the class."
   ]
  },
  {
   "cell_type": "code",
   "execution_count": 2,
   "metadata": {},
   "outputs": [],
   "source": [
    "# Put your code here\n"
   ]
  },
  {
   "cell_type": "code",
   "execution_count": 3,
   "metadata": {},
   "outputs": [],
   "source": [
    "# Make use of your code here\n"
   ]
  },
  {
   "cell_type": "markdown",
   "metadata": {},
   "source": [
    "## Challenge: Lines & Polygons from scratch\n",
    "\n",
    "As a challenge, try creating Line and Polygon classes that are created from a list of points, with a method to return the geometries as WKT. You can try loading in the WKT result into Shapely to see if it is correct. Try implementing some checks to make sure that everything is done correctly to avoid bugs."
   ]
  },
  {
   "cell_type": "code",
   "execution_count": 4,
   "metadata": {},
   "outputs": [],
   "source": [
    "# Put your code here\n"
   ]
  },
  {
   "cell_type": "code",
   "execution_count": 5,
   "metadata": {},
   "outputs": [],
   "source": [
    "# Make use of your code here\n"
   ]
  }
 ],
 "metadata": {
  "kernelspec": {
   "display_name": "geo",
   "language": "python",
   "name": "python3"
  },
  "language_info": {
   "codemirror_mode": {
    "name": "ipython",
    "version": 3
   },
   "file_extension": ".py",
   "mimetype": "text/x-python",
   "name": "python",
   "nbconvert_exporter": "python",
   "pygments_lexer": "ipython3",
   "version": "3.10.10"
  },
  "orig_nbformat": 4
 },
 "nbformat": 4,
 "nbformat_minor": 2
}
